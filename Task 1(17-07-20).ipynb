{
 "cells": [
  {
   "cell_type": "code",
   "execution_count": 1,
   "metadata": {},
   "outputs": [
    {
     "name": "stdout",
     "output_type": "stream",
     "text": [
      "showing info https://raw.githubusercontent.com/nltk/nltk_data/gh-pages/index.xml\n"
     ]
    },
    {
     "data": {
      "text/plain": [
       "True"
      ]
     },
     "execution_count": 1,
     "metadata": {},
     "output_type": "execute_result"
    }
   ],
   "source": [
    "import nltk\n",
    "nltk.download()"
   ]
  },
  {
   "cell_type": "markdown",
   "metadata": {},
   "source": [
    "# Task 2 - Import Brown Corpus And Accessing Data"
   ]
  },
  {
   "cell_type": "code",
   "execution_count": 2,
   "metadata": {},
   "outputs": [
    {
     "data": {
      "text/plain": [
       "['adventure',\n",
       " 'belles_lettres',\n",
       " 'editorial',\n",
       " 'fiction',\n",
       " 'government',\n",
       " 'hobbies',\n",
       " 'humor',\n",
       " 'learned',\n",
       " 'lore',\n",
       " 'mystery',\n",
       " 'news',\n",
       " 'religion',\n",
       " 'reviews',\n",
       " 'romance',\n",
       " 'science_fiction']"
      ]
     },
     "execution_count": 2,
     "metadata": {},
     "output_type": "execute_result"
    }
   ],
   "source": [
    "from nltk.corpus import brown\n",
    "brown.categories()"
   ]
  },
  {
   "cell_type": "code",
   "execution_count": 5,
   "metadata": {},
   "outputs": [
    {
     "data": {
      "text/plain": [
       "['They', 'neither', 'liked', 'nor', 'disliked', 'the', 'Old', 'Man', '.', 'To']"
      ]
     },
     "execution_count": 5,
     "metadata": {},
     "output_type": "execute_result"
    }
   ],
   "source": [
    "brown.words(categories='romance')[:10]"
   ]
  },
  {
   "cell_type": "code",
   "execution_count": 6,
   "metadata": {},
   "outputs": [
    {
     "data": {
      "text/plain": [
       "['As',\n",
       " 'a',\n",
       " 'result',\n",
       " ',',\n",
       " 'although',\n",
       " 'we',\n",
       " 'still',\n",
       " 'make',\n",
       " 'use',\n",
       " 'of',\n",
       " 'this',\n",
       " 'distinction',\n",
       " ',',\n",
       " 'there',\n",
       " 'is',\n",
       " 'much',\n",
       " 'confusion',\n",
       " 'as',\n",
       " 'to',\n",
       " 'the',\n",
       " 'meaning',\n",
       " 'of',\n",
       " 'the',\n",
       " 'basic',\n",
       " 'terms',\n",
       " 'employed',\n",
       " '.',\n",
       " 'Just',\n",
       " 'what',\n",
       " 'is',\n",
       " 'meant',\n",
       " 'by',\n",
       " '``',\n",
       " 'spirit',\n",
       " \"''\",\n",
       " 'and',\n",
       " 'by',\n",
       " '``',\n",
       " 'matter',\n",
       " \"''\",\n",
       " '?',\n",
       " '?',\n",
       " 'The',\n",
       " 'terms',\n",
       " 'are',\n",
       " 'generally',\n",
       " 'taken',\n",
       " 'for',\n",
       " 'granted',\n",
       " 'as']"
      ]
     },
     "execution_count": 6,
     "metadata": {},
     "output_type": "execute_result"
    }
   ],
   "source": [
    "brown.words(categories='religion')[:50]"
   ]
  },
  {
   "cell_type": "markdown",
   "metadata": {},
   "source": [
    "# Task 3-Import Inaugral Corpus And Access Data"
   ]
  },
  {
   "cell_type": "code",
   "execution_count": 10,
   "metadata": {},
   "outputs": [
    {
     "data": {
      "text/plain": [
       "['1789-Washington.txt',\n",
       " '1793-Washington.txt',\n",
       " '1797-Adams.txt',\n",
       " '1801-Jefferson.txt',\n",
       " '1805-Jefferson.txt',\n",
       " '1809-Madison.txt',\n",
       " '1813-Madison.txt',\n",
       " '1817-Monroe.txt',\n",
       " '1821-Monroe.txt',\n",
       " '1825-Adams.txt',\n",
       " '1829-Jackson.txt',\n",
       " '1833-Jackson.txt',\n",
       " '1837-VanBuren.txt',\n",
       " '1841-Harrison.txt',\n",
       " '1845-Polk.txt',\n",
       " '1849-Taylor.txt',\n",
       " '1853-Pierce.txt',\n",
       " '1857-Buchanan.txt',\n",
       " '1861-Lincoln.txt',\n",
       " '1865-Lincoln.txt',\n",
       " '1869-Grant.txt',\n",
       " '1873-Grant.txt',\n",
       " '1877-Hayes.txt',\n",
       " '1881-Garfield.txt',\n",
       " '1885-Cleveland.txt',\n",
       " '1889-Harrison.txt',\n",
       " '1893-Cleveland.txt',\n",
       " '1897-McKinley.txt',\n",
       " '1901-McKinley.txt',\n",
       " '1905-Roosevelt.txt',\n",
       " '1909-Taft.txt',\n",
       " '1913-Wilson.txt',\n",
       " '1917-Wilson.txt',\n",
       " '1921-Harding.txt',\n",
       " '1925-Coolidge.txt',\n",
       " '1929-Hoover.txt',\n",
       " '1933-Roosevelt.txt',\n",
       " '1937-Roosevelt.txt',\n",
       " '1941-Roosevelt.txt',\n",
       " '1945-Roosevelt.txt',\n",
       " '1949-Truman.txt',\n",
       " '1953-Eisenhower.txt',\n",
       " '1957-Eisenhower.txt',\n",
       " '1961-Kennedy.txt',\n",
       " '1965-Johnson.txt',\n",
       " '1969-Nixon.txt',\n",
       " '1973-Nixon.txt',\n",
       " '1977-Carter.txt',\n",
       " '1981-Reagan.txt',\n",
       " '1985-Reagan.txt',\n",
       " '1989-Bush.txt',\n",
       " '1993-Clinton.txt',\n",
       " '1997-Clinton.txt',\n",
       " '2001-Bush.txt',\n",
       " '2005-Bush.txt',\n",
       " '2009-Obama.txt',\n",
       " '2013-Obama.txt',\n",
       " '2017-Trump.txt']"
      ]
     },
     "execution_count": 10,
     "metadata": {},
     "output_type": "execute_result"
    }
   ],
   "source": [
    "from nltk.corpus import inaugural\n",
    "inaugural.fileids()"
   ]
  },
  {
   "cell_type": "code",
   "execution_count": 12,
   "metadata": {},
   "outputs": [
    {
     "data": {
      "text/plain": [
       "['Thank',\n",
       " 'you',\n",
       " '.',\n",
       " 'Thank',\n",
       " 'you',\n",
       " 'so',\n",
       " 'much',\n",
       " '.',\n",
       " 'Vice',\n",
       " 'President',\n",
       " 'Biden',\n",
       " ',',\n",
       " 'Mr',\n",
       " '.',\n",
       " 'Chief',\n",
       " 'Justice',\n",
       " ',',\n",
       " 'Members',\n",
       " 'of',\n",
       " 'the',\n",
       " 'United',\n",
       " 'States',\n",
       " 'Congress',\n",
       " ',',\n",
       " 'distinguished',\n",
       " 'guests',\n",
       " ',',\n",
       " 'and',\n",
       " 'fellow',\n",
       " 'citizens',\n",
       " ':',\n",
       " 'Each',\n",
       " 'time',\n",
       " 'we',\n",
       " 'gather',\n",
       " 'to',\n",
       " 'inaugurate',\n",
       " 'a',\n",
       " 'President',\n",
       " 'we',\n",
       " 'bear',\n",
       " 'witness',\n",
       " 'to',\n",
       " 'the',\n",
       " 'enduring',\n",
       " 'strength',\n",
       " 'of',\n",
       " 'our',\n",
       " 'Constitution',\n",
       " '.']"
      ]
     },
     "execution_count": 12,
     "metadata": {},
     "output_type": "execute_result"
    }
   ],
   "source": [
    "inaugural.words(fileids='2013-Obama.txt')[:50]"
   ]
  },
  {
   "cell_type": "code",
   "execution_count": 11,
   "metadata": {},
   "outputs": [
    {
     "data": {
      "text/plain": [
       "['There', 'has', 'been', 'a', 'change', 'of', 'government', '.', 'It', 'began']"
      ]
     },
     "execution_count": 11,
     "metadata": {},
     "output_type": "execute_result"
    }
   ],
   "source": [
    "inaugural.words(fileids='1913-Wilson.txt')[:10]"
   ]
  },
  {
   "cell_type": "markdown",
   "metadata": {},
   "source": [
    "# Task 4 - Importing Webtext Corpus and Accessing Data"
   ]
  },
  {
   "cell_type": "code",
   "execution_count": 13,
   "metadata": {},
   "outputs": [
    {
     "data": {
      "text/plain": [
       "['firefox.txt',\n",
       " 'grail.txt',\n",
       " 'overheard.txt',\n",
       " 'pirates.txt',\n",
       " 'singles.txt',\n",
       " 'wine.txt']"
      ]
     },
     "execution_count": 13,
     "metadata": {},
     "output_type": "execute_result"
    }
   ],
   "source": [
    "from nltk.corpus import webtext\n",
    "webtext.fileids()"
   ]
  },
  {
   "cell_type": "code",
   "execution_count": 14,
   "metadata": {},
   "outputs": [
    {
     "data": {
      "text/plain": [
       "['PIRATES', 'OF', 'THE', 'CARRIBEAN', ':', 'DEAD', 'MAN', \"'\", 'S', 'CHEST']"
      ]
     },
     "execution_count": 14,
     "metadata": {},
     "output_type": "execute_result"
    }
   ],
   "source": [
    "webtext.words(fileids='pirates.txt')[:10]"
   ]
  },
  {
   "cell_type": "code",
   "execution_count": 15,
   "metadata": {},
   "outputs": [
    {
     "data": {
      "text/plain": [
       "['Cookie',\n",
       " 'Manager',\n",
       " ':',\n",
       " '\"',\n",
       " 'Don',\n",
       " \"'\",\n",
       " 't',\n",
       " 'allow',\n",
       " 'sites',\n",
       " 'that',\n",
       " 'set',\n",
       " 'removed',\n",
       " 'cookies',\n",
       " 'to',\n",
       " 'set',\n",
       " 'future',\n",
       " 'cookies',\n",
       " '\"',\n",
       " 'should',\n",
       " 'stay',\n",
       " 'checked',\n",
       " 'When',\n",
       " 'in',\n",
       " 'full',\n",
       " 'screen',\n",
       " 'mode',\n",
       " 'Pressing',\n",
       " 'Ctrl',\n",
       " '-',\n",
       " 'N',\n",
       " 'should',\n",
       " 'open',\n",
       " 'a',\n",
       " 'new',\n",
       " 'browser',\n",
       " 'when',\n",
       " 'only',\n",
       " 'download',\n",
       " 'dialog',\n",
       " 'is',\n",
       " 'left',\n",
       " 'open',\n",
       " 'add',\n",
       " 'icons',\n",
       " 'to',\n",
       " 'context',\n",
       " 'menu',\n",
       " 'So',\n",
       " 'called',\n",
       " '\"']"
      ]
     },
     "execution_count": 15,
     "metadata": {},
     "output_type": "execute_result"
    }
   ],
   "source": [
    "webtext.words(fileids='firefox.txt')[:50]"
   ]
  },
  {
   "cell_type": "markdown",
   "metadata": {},
   "source": [
    "# Task 5: Frequency Distribution and Words In a Text"
   ]
  },
  {
   "cell_type": "code",
   "execution_count": 28,
   "metadata": {},
   "outputs": [
    {
     "data": {
      "text/plain": [
       "FreqDist({'the': 14, 'of': 6, 'to': 6, 'and': 5, 'is': 4, 'Pradesh': 3, 'Uttarakhand': 2, 'known': 2, 'as': 2, 'a': 2, ...})"
      ]
     },
     "execution_count": 28,
     "metadata": {},
     "output_type": "execute_result"
    }
   ],
   "source": [
    "import nltk\n",
    "text1='Uttarakhand formerly known as Uttaranchal is a state in the northern part of India. It is often referred to as the \"Devabhumi\" due to numerous Hindu temples and pilgrimage centres found throughout the state. Uttarakhand is known for the natural environment of the Himalayas, the Bhabar and the Terai regions. It borders the Tibet Autonomous Region of China to the north; the Sudurpashchim Pradesh of Nepal to the east; the Indian states of Uttar Pradesh to the south and Himachal Pradesh to the west and north-west. The state is divided into two divisions, Garhwal and Kumaon, with a total of 13 districts.'\n",
    "fd=nltk.FreqDist(text1.split())\n",
    "fd"
   ]
  },
  {
   "cell_type": "markdown",
   "metadata": {},
   "source": [
    "# Task 6 - Conditional Frequency Distribution of Words In a Text"
   ]
  },
  {
   "cell_type": "code",
   "execution_count": 16,
   "metadata": {},
   "outputs": [
    {
     "data": {
      "text/plain": [
       "<ConditionalFreqDist with 11 conditions>"
      ]
     },
     "execution_count": 16,
     "metadata": {},
     "output_type": "execute_result"
    }
   ],
   "source": [
    "from nltk.probability import ConditionalFreqDist\n",
    "text1='Uttarakhand formerly known as Uttaranchal is a state in the northern part of India. It is often referred to as the \"Devabhumi\" due to numerous Hindu temples and pilgrimage centres found throughout the state. Uttarakhand is known for the natural environment of the Himalayas, the Bhabar and the Terai regions. It borders the Tibet Autonomous Region of China to the north; the Sudurpashchim Pradesh of Nepal to the east; the Indian states of Uttar Pradesh to the south and Himachal Pradesh to the west and north-west. The state is divided into two divisions, Garhwal and Kumaon, with a total of 13 districts.'\n",
    "cfd=ConditionalFreqDist((len(word),word) for word in text1.split())\n",
    "cfd"
   ]
  },
  {
   "cell_type": "code",
   "execution_count": 20,
   "metadata": {},
   "outputs": [
    {
     "data": {
      "text/plain": [
       "FreqDist({'Uttarakhand': 2, 'Uttaranchal': 1, '\"Devabhumi\"': 1, 'environment': 1, 'north-west.': 1})"
      ]
     },
     "execution_count": 20,
     "metadata": {},
     "output_type": "execute_result"
    }
   ],
   "source": [
    "cfd[11]"
   ]
  },
  {
   "cell_type": "code",
   "execution_count": 17,
   "metadata": {},
   "outputs": [
    {
     "data": {
      "text/plain": [
       "FreqDist({'known': 2, 'state': 2, 'often': 1, 'Hindu': 1, 'found': 1, 'Terai': 1, 'Tibet': 1, 'China': 1, 'Nepal': 1, 'east;': 1, ...})"
      ]
     },
     "execution_count": 17,
     "metadata": {},
     "output_type": "execute_result"
    }
   ],
   "source": [
    "cfd[5]"
   ]
  },
  {
   "cell_type": "code",
   "execution_count": 19,
   "metadata": {},
   "outputs": [],
   "source": [
    "#To determine Frequency Distribution and Conditional Frequency Distribution of any one of the Presidential Addresses"
   ]
  },
  {
   "cell_type": "code",
   "execution_count": 20,
   "metadata": {},
   "outputs": [
    {
     "data": {
      "text/plain": [
       "['1789-Washington.txt',\n",
       " '1793-Washington.txt',\n",
       " '1797-Adams.txt',\n",
       " '1801-Jefferson.txt',\n",
       " '1805-Jefferson.txt',\n",
       " '1809-Madison.txt',\n",
       " '1813-Madison.txt',\n",
       " '1817-Monroe.txt',\n",
       " '1821-Monroe.txt',\n",
       " '1825-Adams.txt',\n",
       " '1829-Jackson.txt',\n",
       " '1833-Jackson.txt',\n",
       " '1837-VanBuren.txt',\n",
       " '1841-Harrison.txt',\n",
       " '1845-Polk.txt',\n",
       " '1849-Taylor.txt',\n",
       " '1853-Pierce.txt',\n",
       " '1857-Buchanan.txt',\n",
       " '1861-Lincoln.txt',\n",
       " '1865-Lincoln.txt',\n",
       " '1869-Grant.txt',\n",
       " '1873-Grant.txt',\n",
       " '1877-Hayes.txt',\n",
       " '1881-Garfield.txt',\n",
       " '1885-Cleveland.txt',\n",
       " '1889-Harrison.txt',\n",
       " '1893-Cleveland.txt',\n",
       " '1897-McKinley.txt',\n",
       " '1901-McKinley.txt',\n",
       " '1905-Roosevelt.txt',\n",
       " '1909-Taft.txt',\n",
       " '1913-Wilson.txt',\n",
       " '1917-Wilson.txt',\n",
       " '1921-Harding.txt',\n",
       " '1925-Coolidge.txt',\n",
       " '1929-Hoover.txt',\n",
       " '1933-Roosevelt.txt',\n",
       " '1937-Roosevelt.txt',\n",
       " '1941-Roosevelt.txt',\n",
       " '1945-Roosevelt.txt',\n",
       " '1949-Truman.txt',\n",
       " '1953-Eisenhower.txt',\n",
       " '1957-Eisenhower.txt',\n",
       " '1961-Kennedy.txt',\n",
       " '1965-Johnson.txt',\n",
       " '1969-Nixon.txt',\n",
       " '1973-Nixon.txt',\n",
       " '1977-Carter.txt',\n",
       " '1981-Reagan.txt',\n",
       " '1985-Reagan.txt',\n",
       " '1989-Bush.txt',\n",
       " '1993-Clinton.txt',\n",
       " '1997-Clinton.txt',\n",
       " '2001-Bush.txt',\n",
       " '2005-Bush.txt',\n",
       " '2009-Obama.txt',\n",
       " '2013-Obama.txt',\n",
       " '2017-Trump.txt']"
      ]
     },
     "execution_count": 20,
     "metadata": {},
     "output_type": "execute_result"
    }
   ],
   "source": [
    "from nltk.corpus import inaugural\n",
    "inaugural.fileids()"
   ]
  },
  {
   "cell_type": "code",
   "execution_count": 34,
   "metadata": {},
   "outputs": [
    {
     "data": {
      "text/plain": [
       "FreqDist({'the': 104, 'of': 81, ',': 77, '.': 67, 'and': 44, 'to': 35, 'in': 30, 'a': 29, '--': 25, 'is': 24, ...})"
      ]
     },
     "execution_count": 34,
     "metadata": {},
     "output_type": "execute_result"
    }
   ],
   "source": [
    "import nltk\n",
    "pres=' '.join(inaugural.words(fileids='1941-Roosevelt.txt'))\n",
    "fd=nltk.FreqDist(pres.split())\n",
    "fd"
   ]
  },
  {
   "cell_type": "code",
   "execution_count": 35,
   "metadata": {},
   "outputs": [
    {
     "data": {
      "text/plain": [
       "<ConditionalFreqDist with 13 conditions>"
      ]
     },
     "execution_count": 35,
     "metadata": {},
     "output_type": "execute_result"
    }
   ],
   "source": [
    "from nltk.probability import ConditionalFreqDist\n",
    "cfd=ConditionalFreqDist((len(word),word) for word in pres.split())\n",
    "cfd"
   ]
  },
  {
   "cell_type": "code",
   "execution_count": 36,
   "metadata": {},
   "outputs": [
    {
     "data": {
      "text/plain": [
       "FreqDist({'understanding': 1, 'unconquerable': 1, 'sovereignties': 1, 'justification': 1})"
      ]
     },
     "execution_count": 36,
     "metadata": {},
     "output_type": "execute_result"
    }
   ],
   "source": [
    "cfd[13]"
   ]
  },
  {
   "cell_type": "code",
   "execution_count": 37,
   "metadata": {},
   "outputs": [
    {
     "data": {
      "text/plain": [
       "FreqDist({'national': 2, 'together': 2, 'measured': 2, 'Republic': 2, 'security': 2, 'American': 2, 'preserve': 1, 'inaction': 1, 'lifetime': 1, 'fullness': 1, ...})"
      ]
     },
     "execution_count": 37,
     "metadata": {},
     "output_type": "execute_result"
    }
   ],
   "source": [
    "cfd[8]"
   ]
  },
  {
   "cell_type": "code",
   "execution_count": 38,
   "metadata": {},
   "outputs": [
    {
     "name": "stdout",
     "output_type": "stream",
     "text": [
      "On each national day of inauguration since 1789 , the people have renewed their sense of dedication to the United States . In Washington ' s day the task of the people was to create and weld together a nation . In Lincoln ' s day the task of the people was to preserve that Nation from disruption from within . In this day the task of the people is to save that Nation and its institutions from disruption from without . To us there has come a time , in the midst of swift happenings , to pause for a moment and take stock -- to recall what our place in history has been , and to rediscover what we are and what we may be . If we do not , we risk the real peril of inaction . Lives of nations are determined not by the count of years , but by the lifetime of the human spirit . The life of a man is three - score years and ten : a little more , a little less . The life of a nation is the fullness of the measure of its will to live . There are men who doubt this . There are men who believe that democracy , as a form of Government and a frame of life , is limited or measured by a kind of mystical and artificial fate that , for some unexplained reason , tyranny and slavery have become the surging wave of the future -- and that freedom is an ebbing tide . But we Americans know that this is not true . Eight years ago , when the life of this Republic seemed frozen by a fatalistic terror , we proved that this is not true . We were in the midst of shock -- but we acted . We acted quickly , boldly , decisively . These later years have been living years -- fruitful years for the people of this democracy . For they have brought to us greater security and , I hope , a better understanding that life ' s ideals are to be measured in other than material things . Most vital to our present and our future is this experience of a democracy which successfully survived crisis at home ; put away many evil things ; built new structures on enduring lines ; and , through it all , maintained the fact of its democracy . For action has been taken within the three - way framework of the Constitution of the United States . The coordinate branches of the Government continue freely to function . The Bill of Rights remains inviolate . The freedom of elections is wholly maintained . Prophets of the downfall of American democracy have seen their dire predictions come to naught . Democracy is not dying . We know it because we have seen it revive -- and grow . We know it cannot die -- because it is built on the unhampered initiative of individual men and women joined together in a common enterprise -- an enterprise undertaken and carried through by the free expression of a free majority . We know it because democracy alone , of all forms of government , enlists the full force of men ' s enlightened will . We know it because democracy alone has constructed an unlimited civilization capable of infinite progress in the improvement of human life . We know it because , if we look below the surface , we sense it still spreading on every continent -- for it is the most humane , the most advanced , and in the end the most unconquerable of all forms of human society . A nation , like a person , has a body -- a body that must be fed and clothed and housed , invigorated and rested , in a manner that measures up to the objectives of our time . A nation , like a person , has a mind -- a mind that must be kept informed and alert , that must know itself , that understands the hopes and the needs of its neighbors -- all the other nations that live within the narrowing circle of the world . And a nation , like a person , has something deeper , something more permanent , something larger than the sum of all its parts . It is that something which matters most to its future -- which calls forth the most sacred guarding of its present . It is a thing for which we find it difficult -- even impossible -- to hit upon a single , simple word . And yet we all understand what it is -- the spirit -- the faith of America . It is the product of centuries . It was born in the multitudes of those who came from many lands -- some of high degree , but mostly plain people , who sought here , early and late , to find freedom more freely . The democratic aspiration is no mere recent phase in human history . It is human history . It permeated the ancient life of early peoples . It blazed anew in the middle ages . It was written in Magna Charta . In the Americas its impact has been irresistible . America has been the New World in all tongues , to all peoples , not because this continent was a new - found land , but because all those who came here believed they could create upon this continent a new life -- a life that should be new in freedom . Its vitality was written into our own Mayflower Compact , into the Declaration of Independence , into the Constitution of the United States , into the Gettysburg Address . Those who first came here to carry out the longings of their spirit , and the millions who followed , and the stock that sprang from them -- all have moved forward constantly and consistently toward an ideal which in itself has gained stature and clarity with each generation . The hopes of the Republic cannot forever tolerate either undeserved poverty or self - serving wealth . We know that we still have far to go ; that we must more greatly build the security and the opportunity and the knowledge of every citizen , in the measure justified by the resources and the capacity of the land . But it is not enough to achieve these purposes alone . It is not enough to clothe and feed the body of this Nation , and instruct and inform its mind . For there is also the spirit . And of the three , the greatest is the spirit . Without the body and the mind , as all men know , the Nation could not live . But if the spirit of America were killed , even though the Nation ' s body and mind , constricted in an alien world , lived on , the America we know would have perished . That spirit -- that faith -- speaks to us in our daily lives in ways often unnoticed , because they seem so obvious . It speaks to us here in the Capital of the Nation . It speaks to us through the processes of governing in the sovereignties of 48 States . It speaks to us in our counties , in our cities , in our towns , and in our villages . It speaks to us from the other nations of the hemisphere , and from those across the seas -- the enslaved , as well as the free . Sometimes we fail to hear or heed these voices of freedom because to us the privilege of our freedom is such an old , old story . The destiny of America was proclaimed in words of prophecy spoken by our first President in his first inaugural in 1789 -- words almost directed , it would seem , to this year of 1941 : \" The preservation of the sacred fire of liberty and the destiny of the republican model of government are justly considered deeply , finally , staked on the experiment intrusted to the hands of the American people .\" If we lose that sacred fire -- if we let it be smothered with doubt and fear -- then we shall reject the destiny which Washington strove so valiantly and so triumphantly to establish . The preservation of the spirit and faith of the Nation does , and will , furnish the highest justification for every sacrifice that we may make in the cause of national defense . In the face of great perils never before encountered , our strong purpose is to protect and to perpetuate the integrity of democracy . For this we muster the spirit of America , and the faith of America . We do not retreat . We are not content to stand still . As Americans , we go forward , in the service of our country , by the will of God .\n"
     ]
    }
   ],
   "source": [
    "print(pres)"
   ]
  }
 ],
 "metadata": {
  "kernelspec": {
   "display_name": "Python 3",
   "language": "python",
   "name": "python3"
  },
  "language_info": {
   "codemirror_mode": {
    "name": "ipython",
    "version": 3
   },
   "file_extension": ".py",
   "mimetype": "text/x-python",
   "name": "python",
   "nbconvert_exporter": "python",
   "pygments_lexer": "ipython3",
   "version": "3.7.6"
  }
 },
 "nbformat": 4,
 "nbformat_minor": 4
}

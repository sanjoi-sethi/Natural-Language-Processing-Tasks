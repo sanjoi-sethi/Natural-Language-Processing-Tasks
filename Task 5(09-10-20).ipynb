{
 "cells": [
  {
   "cell_type": "code",
   "execution_count": 1,
   "metadata": {},
   "outputs": [],
   "source": [
    "import spacy"
   ]
  },
  {
   "cell_type": "code",
   "execution_count": 2,
   "metadata": {},
   "outputs": [],
   "source": [
    "m = spacy.load('en_core_web_sm')"
   ]
  },
  {
   "cell_type": "code",
   "execution_count": 3,
   "metadata": {},
   "outputs": [],
   "source": [
    "eg1=\"Microsoft Corporation is an American multinational technology company with headquarters in Redmond, Washington.Microsoft was founded by Bill Gates and Paul Allen on April 4, 1975, to develop and sell BASIC interpreters for the Altair 8800. It rose to dominate the personal computer operating system market with MS-DOS in the mid-1980s, followed by Microsoft Windows.\""
   ]
  },
  {
   "cell_type": "code",
   "execution_count": 4,
   "metadata": {},
   "outputs": [],
   "source": [
    "doc=m(eg1)"
   ]
  },
  {
   "cell_type": "code",
   "execution_count": 6,
   "metadata": {},
   "outputs": [
    {
     "name": "stdout",
     "output_type": "stream",
     "text": [
      "Microsoft Corporation ORG\n",
      "American NORP\n",
      "Redmond GPE\n",
      "Washington GPE\n",
      "Microsoft ORG\n",
      "Bill Gates PERSON\n",
      "Paul Allen PERSON\n",
      "April 4, 1975 DATE\n",
      "the Altair 8800 PRODUCT\n",
      "MS-DOS PERSON\n",
      "the mid-1980s DATE\n",
      "Microsoft ORG\n",
      "Windows PRODUCT\n"
     ]
    }
   ],
   "source": [
    "for ent in doc.ents:\n",
    "    print(ent.text, ent.label_)"
   ]
  },
  {
   "cell_type": "code",
   "execution_count": 8,
   "metadata": {},
   "outputs": [],
   "source": [
    "eg2=\"U.S. officials are meeting with former UN members\"\\\n",
    "+ \"amid intensifying efforts to wind down America's longest war, three of the\"\\\n",
    "+ \"groups' commanders told NBC News.\""
   ]
  },
  {
   "cell_type": "code",
   "execution_count": 9,
   "metadata": {},
   "outputs": [],
   "source": [
    "doc=m(eg2)"
   ]
  },
  {
   "cell_type": "code",
   "execution_count": 10,
   "metadata": {},
   "outputs": [
    {
     "name": "stdout",
     "output_type": "stream",
     "text": [
      "U.S. GPE\n",
      "UN ORG\n",
      "America GPE\n",
      "three CARDINAL\n",
      "NBC News ORG\n"
     ]
    }
   ],
   "source": [
    "for ent in doc.ents:\n",
    "    print(ent.text, ent.label_)"
   ]
  },
  {
   "cell_type": "code",
   "execution_count": 11,
   "metadata": {},
   "outputs": [],
   "source": [
    "eg3=\"Narendra Damodardas Modi, born 17 September 1950,is an Indian politician serving as the 14th and current Prime Minister of India since 2014. He was the Chief Minister of Gujarat from 2001 to 2014 and is the Member of Parliament for Varanasi. Modi is a member of the Bharatiya Janata Party (BJP) and of the Rashtriya Swayamsevak Sangh (RSS), a Hindu nationalist volunteer organisation. He is the first prime minister outside of the Indian National Congress to win two consecutive terms with a full majority and the second to complete more than five years in office after Atal Bihari Vajpayee.\""
   ]
  },
  {
   "cell_type": "code",
   "execution_count": 13,
   "metadata": {},
   "outputs": [],
   "source": [
    "doc=m(eg3)"
   ]
  },
  {
   "cell_type": "code",
   "execution_count": 14,
   "metadata": {},
   "outputs": [
    {
     "name": "stdout",
     "output_type": "stream",
     "text": [
      "Narendra Damodardas Modi PERSON\n",
      "17 CARDINAL\n",
      "September DATE\n",
      "Indian NORP\n",
      "the 14th DATE\n",
      "India GPE\n",
      "2014 DATE\n",
      "Gujarat GPE\n",
      "2001 to 2014 DATE\n",
      "Varanasi GPE\n",
      "Modi PERSON\n",
      "the Bharatiya Janata Party ORG\n",
      "BJP ORG\n",
      "the Rashtriya Swayamsevak Sangh ORG\n",
      "RSS ORG\n",
      "Hindu NORP\n",
      "first ORDINAL\n",
      "the Indian National Congress ORG\n",
      "two CARDINAL\n",
      "second ORDINAL\n",
      "more than five years DATE\n",
      "Atal Bihari Vajpayee PERSON\n"
     ]
    }
   ],
   "source": [
    "for ent in doc.ents:\n",
    "    print(ent.text, ent.label_)"
   ]
  },
  {
   "cell_type": "code",
   "execution_count": 15,
   "metadata": {},
   "outputs": [],
   "source": [
    "dance=\"Bharatanatyam also previously called Sadira Attam is a major form of Indian classical dance that is indigenous to Tamil Nadu.It is one of eight forms of dance recognized by the Sangeet Natak Akademi (the others being Kathak, Kuchipudi, Odissi, Kathakali, Mohiniyattam, Manipuri and Sattriya) and it expresses South Indian religious themes and spiritual ideas, particularly of Shaivism, Vaishnavism and Shaktism.The performance repertoire of Bharatanatyam, like other classical dances, includes nrita (pure dance), nritya (solo expressive dance) and natya (group dramatic dance).\""
   ]
  },
  {
   "cell_type": "code",
   "execution_count": 16,
   "metadata": {},
   "outputs": [],
   "source": [
    "doc=m(dance)"
   ]
  },
  {
   "cell_type": "code",
   "execution_count": 17,
   "metadata": {},
   "outputs": [
    {
     "name": "stdout",
     "output_type": "stream",
     "text": [
      "Bharatanatyam ORG\n",
      "Sadira Attam ORG\n",
      "Indian NORP\n",
      "Tamil Nadu PERSON\n",
      "one CARDINAL\n",
      "eight CARDINAL\n",
      "the Sangeet Natak Akademi ORG\n",
      "Kathak PERSON\n",
      "Kuchipudi GPE\n",
      "Odissi GPE\n",
      "Kathakali GPE\n",
      "Mohiniyattam GPE\n",
      "Manipuri ORG\n",
      "Sattriya ORG\n",
      "South Indian NORP\n",
      "Bharatanatyam GPE\n"
     ]
    }
   ],
   "source": [
    "for ent in doc.ents:\n",
    "    print(ent.text, ent.label_)"
   ]
  },
  {
   "cell_type": "code",
   "execution_count": 19,
   "metadata": {},
   "outputs": [],
   "source": [
    "struc=\"The Taj Mahal is an ivory-white marble mausoleum on the southern bank of the river Yamuna in the Indian city of Agra. It was commissioned in 1632 by the Mughal emperor Shah Jahan (reigned from 1628 to 1658) to house the tomb of his favourite wife, Mumtaz Mahal; it also houses the tomb of Shah Jahan himself. The tomb is the centrepiece of a 17-hectare (42-acre) complex, which includes a mosque and a guest house, and is set in formal gardens bounded on three sides by a crenellated wall.The Taj Mahal was designated as a UNESCO World Heritage Site in 1983 for being the jewel of Muslim art in India and one of the universally admired masterpieces of the world's heritage. It is regarded by many as the best example of Mughal architecture and a symbol of India's rich history. The Taj Mahal attracts 7–8 million visitors a year and in 2007, it was declared a winner of the New 7 Wonders of the World initiative.\""
   ]
  },
  {
   "cell_type": "code",
   "execution_count": 20,
   "metadata": {},
   "outputs": [],
   "source": [
    "doc=m(struc)"
   ]
  },
  {
   "cell_type": "code",
   "execution_count": 21,
   "metadata": {},
   "outputs": [
    {
     "name": "stdout",
     "output_type": "stream",
     "text": [
      "The Taj Mahal PERSON\n",
      "Yamuna FAC\n",
      "Indian NORP\n",
      "Agra GPE\n",
      "1632 DATE\n",
      "Mughal NORP\n",
      "Shah Jahan PERSON\n",
      "1628 DATE\n",
      "1658 DATE\n",
      "Mumtaz Mahal PERSON\n",
      "Shah Jahan PERSON\n",
      "17-hectare QUANTITY\n",
      "42-acre QUANTITY\n",
      "mosque FAC\n",
      "three CARDINAL\n",
      "The Taj Mahal PERSON\n",
      "UNESCO World Heritage Site ORG\n",
      "1983 DATE\n",
      "Muslim NORP\n",
      "India GPE\n",
      "Mughal NORP\n",
      "India GPE\n",
      "The Taj Mahal PERSON\n",
      "7–8 million CARDINAL\n",
      "2007 DATE\n",
      "World ORG\n"
     ]
    }
   ],
   "source": [
    "for ent in doc.ents:\n",
    "    print(ent.text, ent.label_)"
   ]
  },
  {
   "cell_type": "code",
   "execution_count": 22,
   "metadata": {},
   "outputs": [],
   "source": [
    "rockstar=\"Rockstar is the soundtrack album, composed by A. R. Rahman, to the 2011 Hindi musical film of the same name, directed by Imtiaz Ali, and starring Ranbir Kapoor and Nargis Fakhri in the lead roles. The film also stars Shammi Kapoor, who makes his last silver screen appearance in the film. The film is jointly produced by Shree Ashtavinayak Cine Vision Ltd and Eros International. The album features fourteen tracks, and was released on 30 September 2011 by T-Series to extremely positive critical reception and hysterical response from fans, grabbing nominations and numerous music awards held in the subsequent year.The entire album topped the iTunes world charts 2011 and continued its legacy until early 2012.\""
   ]
  },
  {
   "cell_type": "code",
   "execution_count": 23,
   "metadata": {},
   "outputs": [],
   "source": [
    "doc=m(rockstar)"
   ]
  },
  {
   "cell_type": "code",
   "execution_count": 24,
   "metadata": {},
   "outputs": [
    {
     "name": "stdout",
     "output_type": "stream",
     "text": [
      "A. R. Rahman PERSON\n",
      "2011 DATE\n",
      "Hindi GPE\n",
      "Imtiaz Ali PERSON\n",
      "Shammi Kapoor PERSON\n",
      "Shree Ashtavinayak Cine Vision Ltd ORG\n",
      "Eros International ORG\n",
      "fourteen CARDINAL\n",
      "30 September 2011 DATE\n",
      "T-Series EVENT\n",
      "the subsequent year DATE\n",
      "2011 DATE\n",
      "early 2012 DATE\n"
     ]
    }
   ],
   "source": [
    "for ent in doc.ents:\n",
    "    print(ent.text, ent.label_)"
   ]
  },
  {
   "cell_type": "code",
   "execution_count": 25,
   "metadata": {},
   "outputs": [],
   "source": [
    "river=\"The Ganges or the Ganga is a trans-boundary river of Asia which flows through India and Bangladesh.\""
   ]
  },
  {
   "cell_type": "code",
   "execution_count": 26,
   "metadata": {},
   "outputs": [],
   "source": [
    "doc=m(river)"
   ]
  },
  {
   "cell_type": "code",
   "execution_count": 27,
   "metadata": {},
   "outputs": [
    {
     "name": "stdout",
     "output_type": "stream",
     "text": [
      "Ganges PERSON\n",
      "Asia LOC\n",
      "India GPE\n",
      "Bangladesh GPE\n"
     ]
    }
   ],
   "source": [
    "for ent in doc.ents:\n",
    "    print(ent.text, ent.label_)"
   ]
  },
  {
   "cell_type": "code",
   "execution_count": 28,
   "metadata": {},
   "outputs": [],
   "source": [
    "locs = [('Omnicom', 'IN', 'New York'),('DDB Needham', 'IN', 'New York'),('Kaplan Thaler Group', 'IN', 'New York'),('BBDO South', 'IN', 'Atlanta'), ('Georgia-Pacific', 'IN', 'Atlanta')]"
   ]
  },
  {
   "cell_type": "code",
   "execution_count": 29,
   "metadata": {},
   "outputs": [],
   "source": [
    "query=[e1 for (e1,rel,e2) in locs if e2=='Atlanta']"
   ]
  },
  {
   "cell_type": "code",
   "execution_count": 30,
   "metadata": {},
   "outputs": [
    {
     "data": {
      "text/plain": [
       "['BBDO South', 'Georgia-Pacific']"
      ]
     },
     "execution_count": 30,
     "metadata": {},
     "output_type": "execute_result"
    }
   ],
   "source": [
    "query"
   ]
  },
  {
   "cell_type": "code",
   "execution_count": 31,
   "metadata": {},
   "outputs": [],
   "source": [
    "hur=\"Hurricane Dorian was an extremely powerful and devastating Category 5 Atlantic hurricane, that became the most intense tropical cyclone on record to strike the Bahamas, and is regarded as the worst natural disaster in the country's history.\""
   ]
  },
  {
   "cell_type": "code",
   "execution_count": 32,
   "metadata": {},
   "outputs": [],
   "source": [
    "doc=m(hur)"
   ]
  },
  {
   "cell_type": "code",
   "execution_count": 33,
   "metadata": {},
   "outputs": [
    {
     "name": "stdout",
     "output_type": "stream",
     "text": [
      "Hurricane Dorian NORP\n",
      "5 CARDINAL\n",
      "Atlantic LOC\n",
      "Bahamas GPE\n"
     ]
    }
   ],
   "source": [
    "for ent in doc.ents:\n",
    "    print(ent.text, ent.label_)"
   ]
  },
  {
   "cell_type": "code",
   "execution_count": 34,
   "metadata": {},
   "outputs": [],
   "source": [
    "war=\"The Third Battle of Panipat took place on 14 January 1761 at Panipat, about 97 km (60 miles) north of Delhi, between the Maratha Empire and the invading Afghan army of (Ahmad Shah Durrani), supported by three Indian allies—the Rohilla (Najib-ud-daulah), Afghans of the Doab region, and Shuja-ud-Daula (the Nawab of Awadh). The Maratha army was led by Sadashivrao Bhau who was third in authority after the Chhatrapati (Maratha King) and the Peshwa (Maratha Prime Minister). \""
   ]
  },
  {
   "cell_type": "code",
   "execution_count": 35,
   "metadata": {},
   "outputs": [],
   "source": [
    "doc=m(war)"
   ]
  },
  {
   "cell_type": "code",
   "execution_count": 36,
   "metadata": {},
   "outputs": [
    {
     "name": "stdout",
     "output_type": "stream",
     "text": [
      "Third ORDINAL\n",
      "14 January 1761 DATE\n",
      "Panipat ORG\n",
      "about 97 km QUANTITY\n",
      "(60 miles QUANTITY\n",
      "Delhi GPE\n",
      "the Maratha Empire GPE\n",
      "Afghan NORP\n",
      "(Ahmad Shah Durrani GPE\n",
      "three CARDINAL\n",
      "Indian NORP\n",
      "Rohilla PERSON\n",
      "Afghans NORP\n",
      "Shuja-ud-Daula PERSON\n",
      "the Nawab of Awadh WORK_OF_ART\n",
      "Maratha PERSON\n",
      "Sadashivrao Bhau PERSON\n",
      "third ORDINAL\n",
      "Chhatrapati PERSON\n",
      "Maratha King PERSON\n",
      "Peshwa PERSON\n"
     ]
    }
   ],
   "source": [
    "for ent in doc.ents:\n",
    "    print(ent.text, ent.label_)"
   ]
  },
  {
   "cell_type": "code",
   "execution_count": 37,
   "metadata": {},
   "outputs": [],
   "source": [
    "war1=\"World War I (or the First World War, often abbreviated as WWI or WW1) was a global war originating in Europe that lasted from 28 July 1914 to 11 November 1918.\""
   ]
  },
  {
   "cell_type": "code",
   "execution_count": 39,
   "metadata": {},
   "outputs": [],
   "source": [
    "doc=m(war1)"
   ]
  },
  {
   "cell_type": "code",
   "execution_count": 40,
   "metadata": {},
   "outputs": [
    {
     "name": "stdout",
     "output_type": "stream",
     "text": [
      "World War I EVENT\n",
      "the First World War EVENT\n",
      "WWI ORG\n",
      "WW1 ORG\n",
      "Europe LOC\n",
      "28 July 1914 DATE\n",
      "11 CARDINAL\n",
      "November 1918 DATE\n"
     ]
    }
   ],
   "source": [
    "for ent in doc.ents:\n",
    "    print(ent.text, ent.label_)"
   ]
  },
  {
   "cell_type": "code",
   "execution_count": null,
   "metadata": {},
   "outputs": [],
   "source": []
  }
 ],
 "metadata": {
  "kernelspec": {
   "display_name": "Python 3",
   "language": "python",
   "name": "python3"
  },
  "language_info": {
   "codemirror_mode": {
    "name": "ipython",
    "version": 3
   },
   "file_extension": ".py",
   "mimetype": "text/x-python",
   "name": "python",
   "nbconvert_exporter": "python",
   "pygments_lexer": "ipython3",
   "version": "3.7.6"
  }
 },
 "nbformat": 4,
 "nbformat_minor": 4
}
